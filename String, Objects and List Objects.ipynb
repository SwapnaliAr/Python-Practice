{
 "cells": [
  {
   "cell_type": "code",
   "execution_count": null,
   "id": "57bea9f6",
   "metadata": {},
   "outputs": [],
   "source": [
    "# 1.\tCreate the below pattern using nested for loop in Python."
   ]
  },
  {
   "cell_type": "code",
   "execution_count": 3,
   "id": "e32ab705",
   "metadata": {},
   "outputs": [
    {
     "name": "stdout",
     "output_type": "stream",
     "text": [
      "*\n",
      "**\n",
      "***\n",
      "****\n",
      "*****\n",
      "****\n",
      "***\n",
      "**\n",
      "*\n",
      "\n"
     ]
    }
   ],
   "source": [
    "for i in range(1, 11):\n",
    "    if i <= 5:\n",
    "        x = i\n",
    "        print(\"*\" * x)\n",
    "    else :\n",
    "        x -= 1\n",
    "        print(\"*\" * x)"
   ]
  },
  {
   "cell_type": "code",
   "execution_count": null,
   "id": "274beeda",
   "metadata": {},
   "outputs": [],
   "source": [
    "# 2.\tWrite a Python program to reverse a word after accepting the input from the user."
   ]
  },
  {
   "cell_type": "code",
   "execution_count": 22,
   "id": "ba6a0078",
   "metadata": {},
   "outputs": [
    {
     "name": "stdout",
     "output_type": "stream",
     "text": [
      "ineuron\n",
      "norueni\n"
     ]
    }
   ],
   "source": [
    "Word = input()\n",
    "word_list = list(reversed(Word))\n",
    "print(\"\".join(word_list))"
   ]
  }
 ],
 "metadata": {
  "kernelspec": {
   "display_name": "Python 3 (ipykernel)",
   "language": "python",
   "name": "python3"
  },
  "language_info": {
   "codemirror_mode": {
    "name": "ipython",
    "version": 3
   },
   "file_extension": ".py",
   "mimetype": "text/x-python",
   "name": "python",
   "nbconvert_exporter": "python",
   "pygments_lexer": "ipython3",
   "version": "3.9.12"
  }
 },
 "nbformat": 4,
 "nbformat_minor": 5
}
