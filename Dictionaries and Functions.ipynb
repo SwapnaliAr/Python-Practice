{
 "cells": [
  {
   "cell_type": "code",
   "execution_count": null,
   "id": "bce84c79",
   "metadata": {},
   "outputs": [],
   "source": [
    "# 1.1\tWrite a Python Program(with class concepts) to find the area of the triangle using the below formula.\n",
    "area = (s*(s-a)*(s-b)*(s-c)) ** 0.5\n",
    "\n",
    "# Function to take the length of the sides of triangle from user should be defined in the parent class and function to calculate the area should be defined in subclass.\n"
   ]
  },
  {
   "cell_type": "code",
   "execution_count": 2,
   "id": "7ee6ad03",
   "metadata": {},
   "outputs": [
    {
     "name": "stdout",
     "output_type": "stream",
     "text": [
      "7\n",
      "8\n",
      "12\n",
      "26.906086671978144\n"
     ]
    }
   ],
   "source": [
    "class Area:\n",
    "    def accept_inputs(self):\n",
    "        a = int(input())\n",
    "        b = int(input())\n",
    "        c = int(input())\n",
    "        return a, b, c\n",
    "\n",
    "class Triangle(Area):\n",
    "    def area(self):\n",
    "        a, b, c = super().accept_inputs()\n",
    "        s = (a+b+c)/2\n",
    "        area = (s*(s-a)*(s-b)*(s-c)) ** 0.5\n",
    "        return area\n",
    "    \n",
    "t = Triangle()\n",
    "area = t.area()\n",
    "print(area)"
   ]
  },
  {
   "cell_type": "code",
   "execution_count": null,
   "id": "6e0363f8",
   "metadata": {},
   "outputs": [],
   "source": [
    "# 1.2\tWrite a function filter_long_words() that takes a list of words and an integer n and returns the list of words that are longer than n."
   ]
  },
  {
   "cell_type": "code",
   "execution_count": 3,
   "id": "653f9cd9",
   "metadata": {},
   "outputs": [
    {
     "name": "stdout",
     "output_type": "stream",
     "text": [
      "['Swapna', 'Swapnaa', 'Swapnali']\n"
     ]
    }
   ],
   "source": [
    "def filter_long_words(lis, n):\n",
    "    lis2 = []\n",
    "    for i in lis:\n",
    "        if len(i) > n:\n",
    "            lis2.append(i)\n",
    "    return lis2\n",
    "\n",
    "lis = [\"Swap\", \"Swapna\", \"Swa\", \"Swapnaa\", \"Swapnali\"]\n",
    "\n",
    "print(filter_long_words(lis, 4))    "
   ]
  },
  {
   "cell_type": "code",
   "execution_count": null,
   "id": "9c76a7e9",
   "metadata": {},
   "outputs": [],
   "source": [
    "# 2.1\tWrite a Python program using function concept that maps list of words into a list of integers representing the lengths of the corresponding words.\n",
    "Hint: If a list [ ab,cde,erty] is passed on to the python function output should come as [2,3,4] Here 2,3 and 4 are the lengths of the words in the list."
   ]
  },
  {
   "cell_type": "code",
   "execution_count": 4,
   "id": "a9930d40",
   "metadata": {},
   "outputs": [
    {
     "name": "stdout",
     "output_type": "stream",
     "text": [
      "[8, 7, 5]\n"
     ]
    }
   ],
   "source": [
    "def count_length(lis):\n",
    "    lis2 = []\n",
    "    for i in lis:\n",
    "        lis2.append(len(i))\n",
    "    return lis2\n",
    "\n",
    "lis = [\"Swapnali\", \"Sandeep\", \"Surya\"]\n",
    "\n",
    "print(count_length(lis))"
   ]
  },
  {
   "cell_type": "code",
   "execution_count": null,
   "id": "ae973fa7",
   "metadata": {},
   "outputs": [],
   "source": [
    "# Write a Python function which takes a character (i.e. a string of length 1) and returns True if it is a vowel, False otherwise"
   ]
  },
  {
   "cell_type": "code",
   "execution_count": 10,
   "id": "56e53936",
   "metadata": {},
   "outputs": [
    {
     "name": "stdout",
     "output_type": "stream",
     "text": [
      "False\n",
      "True\n"
     ]
    }
   ],
   "source": [
    "def is_vowel(char):\n",
    "    if char in (\"a\", \"e\", \"i\", \"o\", \"u\"):\n",
    "        return True\n",
    "    return False\n",
    "\n",
    "print(is_vowel(\"s\"))\n",
    "print(is_vowel(\"i\"))"
   ]
  }
 ],
 "metadata": {
  "kernelspec": {
   "display_name": "Python 3 (ipykernel)",
   "language": "python",
   "name": "python3"
  },
  "language_info": {
   "codemirror_mode": {
    "name": "ipython",
    "version": 3
   },
   "file_extension": ".py",
   "mimetype": "text/x-python",
   "name": "python",
   "nbconvert_exporter": "python",
   "pygments_lexer": "ipython3",
   "version": "3.9.12"
  }
 },
 "nbformat": 4,
 "nbformat_minor": 5
}
